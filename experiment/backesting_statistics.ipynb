{
 "cells": [
  {
   "cell_type": "code",
   "execution_count": null,
   "metadata": {},
   "outputs": [],
   "source": [
    "# Import libraries\n",
    "import numpy as np"
   ]
  },
  {
   "cell_type": "code",
   "execution_count": null,
   "metadata": {},
   "outputs": [],
   "source": [
    "# RF multi-factor model statistics\n",
    "rf_sr = [0.722,0.517,0.418,0.491,0.543]\n",
    "rf_dd = [34.72,28.40,25.50,32.40,31.70]\n",
    "rf_ar = [14.70,10.41,7.65,9.78,11.12]\n",
    "\n",
    "print(f\"SR: {np.mean(rf_sr)}\")\n",
    "print(f\"DD: {np.mean(rf_dd)}\")\n",
    "print(f\"AR: {np.mean(rf_ar)}\")\n"
   ]
  },
  {
   "cell_type": "code",
   "execution_count": null,
   "metadata": {},
   "outputs": [],
   "source": [
    "# GBM multi-factor model statistics\n",
    "gbm_sr = [0.472,0.512,0.458,0.482,0.538]\n",
    "gbm_dd = [37.80,39.80,41.70,39.90,38.80]\n",
    "gbm_ar = [10.48,9.85,9.46,10.09,11.02]\n",
    "\n",
    "print(f\"SR: {np.mean(gbm_sr)}\")\n",
    "print(f\"DD: {np.mean(gbm_dd)}\")\n",
    "print(f\"AR: {np.mean(gbm_ar)}\")\n"
   ]
  },
  {
   "cell_type": "code",
   "execution_count": null,
   "metadata": {},
   "outputs": [],
   "source": [
    "# DNN multi-factor model statistics\n",
    "dnn_sr = [0.816,0.683,0.796,0.804,0.799]\n",
    "dnn_dd = [40.60,45.00,30.40,39.20,40.60]\n",
    "dnn_ar = [20.01,16.76,18.25,19.78,19.70]\n",
    "\n",
    "print(f\"SR: {np.mean(dnn_sr)}\")\n",
    "print(f\"DD: {np.mean(dnn_dd)}\")\n",
    "print(f\"AR: {np.mean(dnn_ar)}\")\n"
   ]
  }
 ],
 "metadata": {
  "kernelspec": {
   "display_name": "Python 3",
   "language": "python",
   "name": "python3"
  },
  "language_info": {
   "codemirror_mode": {
    "name": "ipython",
    "version": 3
   },
   "file_extension": ".py",
   "mimetype": "text/x-python",
   "name": "python",
   "nbconvert_exporter": "python",
   "pygments_lexer": "ipython3",
   "version": "3.11.4"
  }
 },
 "nbformat": 4,
 "nbformat_minor": 2
}

{
 "cells": [
  {
   "cell_type": "code",
   "execution_count": null,
   "metadata": {},
   "outputs": [],
   "source": [
    "# Import libraries\n",
    "import pandas as pd"
   ]
  },
  {
   "cell_type": "code",
   "execution_count": null,
   "metadata": {},
   "outputs": [],
   "source": [
    "# Get prices dataset (y)\n",
    "merged_df = pd.read_csv(\"./output/return.csv\",index_col=[0, 1]).sort_index()\n",
    "print(f\"Stock grwoth dataset shape: {merged_df.shape}\")\n",
    "\n",
    "# Get fundamental factors\n",
    "fund_ful = pd.read_csv(\"./output/fundamentals.csv\",index_col=[0, 1]).sort_index()\n",
    "merged_df = pd.merge(merged_df, fund_ful, left_index=True, right_index=True, how='inner')\n",
    "print(f\"Technical factor dataset shape: {fund_ful.shape}\")\n",
    "\n",
    "# Get fundamental growth rates\n",
    "fund_gro = pd.read_csv(\"./output/fundamentals_growth.csv\",index_col=[0, 1]).sort_index()\n",
    "fund_gro = fund_gro.add_suffix(\" (Growth)\")\n",
    "merged_df = pd.merge(merged_df, fund_gro, left_index=True, right_index=True, how='inner')\n",
    "print(f\"Fundamental factor dataset shape: {fund_gro.shape}\")\n",
    "\n",
    "# Get techncical factors\n",
    "techn = pd.read_csv(\"./output/technical.csv\",index_col=[0, 1]).sort_index()\n",
    "merged_df = pd.concat([merged_df, techn], axis=1, ignore_index=False)\n",
    "print(f\"Technical factor dataset shape: {techn.shape}\")"
   ]
  },
  {
   "cell_type": "code",
   "execution_count": null,
   "metadata": {},
   "outputs": [],
   "source": [
    "# Process and remove NaN values from the dataset\n",
    "processing = 3\n",
    "\n",
    "# Fill all the NaNs: Full Fill\n",
    "if (processing == 1):\n",
    "    clean_df = merged_df.ffill()\n",
    "    clean_df = clean_df.bfill()\n",
    "    clean_df = clean_df.dropna()\n",
    "    \n",
    "# Do half-and-half: Partial Fill\n",
    "elif (processing == 2):\n",
    "    clean_df = merged_df.dropna(thresh=merged_df.shape[0]*0.7, axis=1)\n",
    "    clean_df = clean_df.ffill(limit=5)\n",
    "    clean_df = clean_df.bfill(limit=5)\n",
    "    clean_df = clean_df.dropna()\n",
    "\n",
    "# Delete all the NaNs: No Fill\n",
    "elif (processing == 3):\n",
    "    clean_df = merged_df.dropna(thresh=merged_df.shape[0]*0.7, axis=1)\n",
    "    clean_df = clean_df.dropna()\n",
    "\n",
    "# Something bad has happened\n",
    "else:\n",
    "    print(\"Error!\")\n",
    "\n",
    "# Preview the cleaned dataset so far\n",
    "clean_df.head()"
   ]
  },
  {
   "cell_type": "code",
   "execution_count": null,
   "metadata": {},
   "outputs": [],
   "source": [
    "# Turn quarterly times into datetimes\n",
    "times = [(pd.to_datetime(x[:4]) + pd.offsets.QuarterBegin(int(x[5:]))).strftime('%m/%d/%Y') for x in clean_df.index.get_level_values(1)]\n",
    "clean_df.index = clean_df.index.set_levels(times, level=1, verify_integrity=False)\n",
    "\n",
    "clean_df.columns = [col.replace(',', '') for col in clean_df.columns]\n",
    "clean_df.columns = [col.replace('\"', '') for col in clean_df.columns]"
   ]
  },
  {
   "cell_type": "code",
   "execution_count": null,
   "metadata": {},
   "outputs": [],
   "source": [
    "# Turn return into itself * 100\n",
    "clean_df['Return'] = clean_df['Return'].apply(lambda x: x*100)\n",
    "\n",
    "# Sort by date\n",
    "clean_df = clean_df.sort_index(level=1)"
   ]
  },
  {
   "cell_type": "code",
   "execution_count": null,
   "metadata": {},
   "outputs": [],
   "source": [
    "# Print the merged dataset\n",
    "print(f\"Final dataset shape: {clean_df.shape}\")\n",
    "clean_df.head()"
   ]
  },
  {
   "cell_type": "code",
   "execution_count": null,
   "metadata": {},
   "outputs": [],
   "source": [
    "# Save the merged dataset\n",
    "clean_df.to_csv('./output/complete_dataset.csv', float_format='%.2f')"
   ]
  }
 ],
 "metadata": {
  "kernelspec": {
   "display_name": "Python 3",
   "language": "python",
   "name": "python3"
  },
  "language_info": {
   "codemirror_mode": {
    "name": "ipython",
    "version": 3
   },
   "file_extension": ".py",
   "mimetype": "text/x-python",
   "name": "python",
   "nbconvert_exporter": "python",
   "pygments_lexer": "ipython3",
   "version": "3.11.4"
  }
 },
 "nbformat": 4,
 "nbformat_minor": 2
}

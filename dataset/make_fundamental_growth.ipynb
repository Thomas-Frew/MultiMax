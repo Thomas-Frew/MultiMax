{
 "cells": [
  {
   "cell_type": "code",
   "execution_count": null,
   "metadata": {},
   "outputs": [],
   "source": [
    "# Import libraries\n",
    "from financetoolkit import Toolkit"
   ]
  },
  {
   "cell_type": "code",
   "execution_count": null,
   "metadata": {},
   "outputs": [],
   "source": [
    "# Load tickers\n",
    "tick_path = \"./stock_lists/wilshire_5000.txt\" \n",
    "tickers = []\n",
    "\n",
    "with open(tick_path, \"r\") as file:\n",
    "    \n",
    "    # Read each line in the file and append it to the list\n",
    "    for line in file:\n",
    "        tickers.append(line.strip())\n",
    "\n",
    "# Print our list of tickers\n",
    "print(f\"Loading data from {len(tickers)} stocks...\")"
   ]
  },
  {
   "cell_type": "code",
   "execution_count": null,
   "metadata": {},
   "outputs": [],
   "source": [
    "# Use a private, Basic-Plan api key to fetch all quarterly data between 2001 and 2023.\n",
    "key = \"[API_KEY]\"\n",
    "companies = Toolkit(tickers, api_key=key, start_date='2001-01-01', end_date='2023-01-01', quarterly=True)"
   ]
  },
  {
   "cell_type": "code",
   "execution_count": null,
   "metadata": {},
   "outputs": [],
   "source": [
    "# Get all stats from income statements, balance sheets and cash flows\n",
    "bal_data = companies.get_balance_sheet_statement(growth=True).stack().unstack(level=1)\n",
    "cas_data = companies.get_cash_flow_statement(growth=True).stack().unstack(level=1)\n",
    "inc_data = companies.get_income_statement(growth=True).stack().unstack(level=1)"
   ]
  },
  {
   "cell_type": "code",
   "execution_count": null,
   "metadata": {},
   "outputs": [],
   "source": [
    "# Get all efficiency, liquidity, productivity, solvency and valuation  ratios\n",
    "eff_ratio = companies.ratios.collect_efficiency_ratios().stack().unstack(level=1)\n",
    "liq_ratio = companies.ratios.collect_liquidity_ratios().stack().unstack(level=1)\n",
    "pro_ratio = companies.ratios.collect_profitability_ratios().stack().unstack(level=1)\n",
    "val_ratio = companies.ratios.collect_valuation_ratios().stack().unstack(level=1)\n",
    "sol_ratio = companies.ratios.collect_solvency_ratios().stack().unstack(level=1)\n",
    "\n",
    "# Valuation ratios come out strange, so we fix them manually\n",
    "val_ratio.index = val_ratio.index.set_names('date', level=1)"
   ]
  },
  {
   "cell_type": "code",
   "execution_count": null,
   "metadata": {},
   "outputs": [],
   "source": [
    "# Create a set of dataframes\n",
    "dfs = [ bal_data, cas_data, eff_ratio, liq_ratio, pro_ratio ]\n",
    "master_df = inc_data"
   ]
  },
  {
   "cell_type": "code",
   "execution_count": null,
   "metadata": {},
   "outputs": [],
   "source": [
    "# Concatenate the data frames\n",
    "for df in dfs:\n",
    "    master_df = master_df.merge(df, how='outer', left_index=True, right_index=True)"
   ]
  },
  {
   "cell_type": "code",
   "execution_count": null,
   "metadata": {},
   "outputs": [],
   "source": [
    "# Print the head of our final dataset and its shape\n",
    "print(master_df.head())"
   ]
  },
  {
   "cell_type": "code",
   "execution_count": null,
   "metadata": {},
   "outputs": [],
   "source": [
    "# Output the dataset\n",
    "inc_data.to_csv('./output/fundamentals_growth.csv')"
   ]
  }
 ],
 "metadata": {
  "kernelspec": {
   "display_name": "Python 3",
   "language": "python",
   "name": "python3"
  },
  "language_info": {
   "codemirror_mode": {
    "name": "ipython",
    "version": 3
   },
   "file_extension": ".py",
   "mimetype": "text/x-python",
   "name": "python",
   "nbconvert_exporter": "python",
   "pygments_lexer": "ipython3",
   "version": "3.11.4"
  },
  "orig_nbformat": 4
 },
 "nbformat": 4,
 "nbformat_minor": 2
}

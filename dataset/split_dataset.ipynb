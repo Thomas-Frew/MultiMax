{
 "cells": [
  {
   "cell_type": "code",
   "execution_count": null,
   "metadata": {},
   "outputs": [],
   "source": [
    "# Import libraries\n",
    "import pandas as pd\n",
    "import os"
   ]
  },
  {
   "cell_type": "code",
   "execution_count": null,
   "metadata": {},
   "outputs": [],
   "source": [
    "# Define our source directory\n",
    "source_file = \"complete_dataset.csv\"\n",
    "\n",
    "source = \"./output/\" + source_file\n",
    "print(f\"Reading dataset from {source}\")"
   ]
  },
  {
   "cell_type": "code",
   "execution_count": null,
   "metadata": {},
   "outputs": [],
   "source": [
    "# Load the source dataset\n",
    "dataset = pd.read_csv(source,index_col=[0, 1]).sort_index()\n",
    "dataset"
   ]
  },
  {
   "cell_type": "code",
   "execution_count": null,
   "metadata": {},
   "outputs": [],
   "source": [
    "# Define our target directory\n",
    "target_folder = \"split_datasets\"\n",
    "target_subfolder = \"no_fill\"\n",
    "\n",
    "# Save the data from each stock in our dataset as an individual file\n",
    "for k, g in dataset.groupby(level=0):\n",
    "    \n",
    "    dir = \"./output/\" + target_folder + \"/\" + target_subfolder\n",
    "    \n",
    "    if not os.path.exists(dir):\n",
    "        os.mkdir(dir)\n",
    "    \n",
    "    g.to_csv(dir + \"/\" + k + \".csv\")"
   ]
  }
 ],
 "metadata": {
  "kernelspec": {
   "display_name": "Python 3",
   "language": "python",
   "name": "python3"
  },
  "language_info": {
   "codemirror_mode": {
    "name": "ipython",
    "version": 3
   },
   "file_extension": ".py",
   "mimetype": "text/x-python",
   "name": "python",
   "nbconvert_exporter": "python",
   "pygments_lexer": "ipython3",
   "version": "3.11.4"
  }
 },
 "nbformat": 4,
 "nbformat_minor": 2
}

{
 "cells": [
  {
   "cell_type": "code",
   "execution_count": null,
   "metadata": {},
   "outputs": [],
   "source": [
    "# Import libraries\n",
    "from financetoolkit import Toolkit"
   ]
  },
  {
   "cell_type": "code",
   "execution_count": null,
   "metadata": {},
   "outputs": [],
   "source": [
    "# Load tickers\n",
    "tick_path = \"./stock_lists/wilshire_5000.txt\" \n",
    "tickers = []\n",
    "\n",
    "with open(tick_path, \"r\") as file:\n",
    "    \n",
    "    # Read each line in the file and append it to the list\n",
    "    for line in file:\n",
    "        tickers.append(line.strip())\n",
    "\n",
    "# Print our list of tickers\n",
    "print(f\"Loading data from {len(tickers)} stocks...\")"
   ]
  },
  {
   "cell_type": "code",
   "execution_count": null,
   "metadata": {},
   "outputs": [],
   "source": [
    "# Use a private, Basic-Plan api key to fetch all quarterly data between 2001 and 2022.\n",
    "key = \"[API_KEY]\"\n",
    "companies = Toolkit(tickers, api_key=key, start_date='2001-01-01', end_date='2023-01-01', quarterly=True)"
   ]
  },
  {
   "cell_type": "code",
   "execution_count": null,
   "metadata": {},
   "outputs": [],
   "source": [
    "# Get all technical indicators on a quarterly basis\n",
    "tec_data = companies.technicals.collect_all_indicators(period=\"quarterly\").stack(level=1)\n",
    "\n",
    "tec_data.index = tec_data.index.swaplevel(1,0)\n",
    "tec_data.index = tec_data.index.rename(\"date\", level=1)"
   ]
  },
  {
   "cell_type": "code",
   "execution_count": null,
   "metadata": {},
   "outputs": [],
   "source": [
    "# Print the head of our final dataset\n",
    "print(tec_data.head())\n",
    "print(tec_data.shape)"
   ]
  },
  {
   "cell_type": "code",
   "execution_count": null,
   "metadata": {},
   "outputs": [],
   "source": [
    "# Output the dataset\n",
    "tec_data.to_csv('./out/technical.csv')"
   ]
  }
 ],
 "metadata": {
  "kernelspec": {
   "display_name": "Python 3",
   "language": "python",
   "name": "python3"
  },
  "language_info": {
   "codemirror_mode": {
    "name": "ipython",
    "version": 3
   },
   "file_extension": ".py",
   "mimetype": "text/x-python",
   "name": "python",
   "nbconvert_exporter": "python",
   "pygments_lexer": "ipython3",
   "version": "3.11.4"
  },
  "orig_nbformat": 4
 },
 "nbformat": 4,
 "nbformat_minor": 2
}

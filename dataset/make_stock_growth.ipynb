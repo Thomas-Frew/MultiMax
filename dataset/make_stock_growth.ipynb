{
 "cells": [
  {
   "cell_type": "code",
   "execution_count": null,
   "metadata": {},
   "outputs": [],
   "source": [
    "# Import libararies\n",
    "from financetoolkit import Toolkit"
   ]
  },
  {
   "cell_type": "code",
   "execution_count": null,
   "metadata": {},
   "outputs": [],
   "source": [
    "# Load tickers\n",
    "tick_path = \"./stock_lists/wilshire_5000.txt\" \n",
    "tickers = []\n",
    "\n",
    "with open(tick_path, \"r\") as file:\n",
    "    \n",
    "    # Read each line in the file and append it to the list\n",
    "    for line in file:\n",
    "        tickers.append(line.strip())\n",
    "\n",
    "# Print our list of tickers\n",
    "print(f\"Loading data from {len(tickers)} stocks...\")"
   ]
  },
  {
   "cell_type": "code",
   "execution_count": null,
   "metadata": {},
   "outputs": [],
   "source": [
    "# Use a private, Basic-Plan api key to fetch all quarterly data between 2001 and 2023.\n",
    "key = \"[API_KEY]\"\n",
    "companies = Toolkit(tickers, api_key=key, start_date='2001-01-01', end_date='2023-01-01', quarterly=True)"
   ]
  },
  {
   "cell_type": "code",
   "execution_count": null,
   "metadata": {},
   "outputs": [],
   "source": [
    "# Get distorical data and manipulate it into the standard format\n",
    "historical_data = companies.get_historical_data(period=\"quarterly\")\n",
    "historical_data = historical_data.stack(level=1)"
   ]
  },
  {
   "cell_type": "code",
   "execution_count": null,
   "metadata": {},
   "outputs": [],
   "source": [
    "# Define a custom operation for calculating stock returns over the next quarter\n",
    "def calculateReturns(group):\n",
    "    group['Return_Lag'] = (group['Close'].shift(-1) - group['Close']) / group['Close'].shift(-1)\n",
    "    return group\n"
   ]
  },
  {
   "cell_type": "code",
   "execution_count": null,
   "metadata": {},
   "outputs": [],
   "source": [
    "# Copy over the historial return data\n",
    "data = historical_data\n",
    "data = data.sort_index(level=1)\n",
    "\n",
    "# Calculate stock grwoth over the next quarter\n",
    "new_data = data.groupby(level=1).apply(calculateReturns)\n",
    "\n",
    "# Isolate the single column associated with stock returns\n",
    "new_data = new_data.sort_index(level=1)\n",
    "new_data = new_data.droplevel(2)\n",
    "new_data = new_data[\"Return_Lag\"]"
   ]
  },
  {
   "cell_type": "code",
   "execution_count": null,
   "metadata": {},
   "outputs": [],
   "source": [
    "# Print the head of our final dataset\n",
    "print(data.head())"
   ]
  },
  {
   "cell_type": "code",
   "execution_count": null,
   "metadata": {},
   "outputs": [],
   "source": [
    "# Output the dataset\n",
    "data.to_csv('./output/return.csv')"
   ]
  }
 ],
 "metadata": {
  "kernelspec": {
   "display_name": "Python 3",
   "language": "python",
   "name": "python3"
  },
  "language_info": {
   "codemirror_mode": {
    "name": "ipython",
    "version": 3
   },
   "file_extension": ".py",
   "mimetype": "text/x-python",
   "name": "python",
   "nbconvert_exporter": "python",
   "pygments_lexer": "ipython3",
   "version": "3.11.4"
  },
  "orig_nbformat": 4
 },
 "nbformat": 4,
 "nbformat_minor": 2
}
